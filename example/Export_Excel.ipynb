{
 "cells": [
  {
   "cell_type": "markdown",
   "metadata": {},
   "source": [
    "## import"
   ]
  },
  {
   "cell_type": "code",
   "execution_count": 1,
   "metadata": {},
   "outputs": [],
   "source": [
    "import pylizard, pandas"
   ]
  },
  {
   "cell_type": "markdown",
   "metadata": {},
   "source": [
    "## parameters"
   ]
  },
  {
   "cell_type": "code",
   "execution_count": 2,
   "metadata": {},
   "outputs": [],
   "source": [
    "export = [['28EP0026',1],\n",
    "          ['28EP0088',1],\n",
    "          ['28EP0088',2],\n",
    "          ['28FP0029',1],\n",
    "          ['28FP0029',2],\n",
    "          ['28FP0033',1],\n",
    "          ['28FP0033',2],\n",
    "          ['28FP0067',1],\n",
    "          ['28FP0067',2],\n",
    "          ['28FP0094',1],\n",
    "          ['28FP0094',2],\n",
    "          ['28FP0131',1],\n",
    "          ['28FP0133',1],\n",
    "          ['28FP0133',2],\n",
    "          ['28FP0273',1],\n",
    "          ['28FP0273',2],\n",
    "          ['28FP0273',3],\n",
    "          ['28FP9002',1],\n",
    "          ['28FP9014',1],]\n",
    "\n",
    "yr_min, yr_max = 2016, 2017\n",
    "xlsx_name = 'export_lizard.xlsx'"
   ]
  },
  {
   "cell_type": "markdown",
   "metadata": {},
   "source": [
    "## validate\n",
    "Wanneer een stijghoogte een grotere afstand heeft van de gemiddelde stijghoogte dan n=4 keer de standaardafwijking wordt deze gemarkeerd als outlier."
   ]
  },
  {
   "cell_type": "code",
   "execution_count": 3,
   "metadata": {},
   "outputs": [],
   "source": [
    "def validate(h, n=4):\n",
    "    h_val = h.loc[abs(h-h.mean())<n*h.std()]\n",
    "    h_out = h.loc[abs(h-h.mean())>=n*h.std()]\n",
    "    return h_val, h_out"
   ]
  },
  {
   "cell_type": "markdown",
   "metadata": {},
   "source": [
    "## grafiek"
   ]
  },
  {
   "cell_type": "code",
   "execution_count": 7,
   "metadata": {},
   "outputs": [],
   "source": [
    "def fill_chart(workbook, sheet_name, len_d):\n",
    "    chart = workbook.add_chart({'type': 'scatter'})\n",
    "    chart.add_series({'name':[sheet_name, 0, 1], \n",
    "                      'categories': [sheet_name, 1, 0, len_d, 0], \n",
    "                      'values':[sheet_name, 1, 1, len_d, 1], \n",
    "                      'line':{'color': 'blue'},\n",
    "                      'marker':{'type': 'none'},})\n",
    "    chart.add_series({'name':[sheet_name, 0, 2],\n",
    "                      'categories': [sheet_name, 1, 0, len_d, 0], \n",
    "                      'values':[sheet_name, 1, 2, len_d, 2], \n",
    "                      'marker':{'type':'circle', 'border':{'none':True}, 'fill':{'color':'green'}, 'size': 7},})\n",
    "    chart.add_series({'name':[sheet_name, 0, 3], \n",
    "                      'categories': [sheet_name, 1, 0, len_d, 0], \n",
    "                      'values':[sheet_name, 1, 3, len_d, 3], \n",
    "                      'marker':{'type': 'square', 'border':{'none':True}, 'fill':{'color':'red'}, 'size': 7},})\n",
    "\n",
    "    chart.set_x_axis({'name': 'Date',\n",
    "                      'num_format': 'mm-yyyy',\n",
    "                      'major_gridlines': {'visible': True,}})\n",
    "    chart.set_y_axis({'name': 'Head',\n",
    "                      'num_format': '0.00',})\n",
    "\n",
    "    chart.set_size({'x_scale': 1.5, 'y_scale': 1})\n",
    "    return chart"
   ]
  },
  {
   "cell_type": "markdown",
   "metadata": {},
   "source": [
    "## map"
   ]
  },
  {
   "cell_type": "code",
   "execution_count": 5,
   "metadata": {},
   "outputs": [],
   "source": [
    "def pnt2map(x, y, d):\n",
    "    import matplotlib.pyplot as plt, matplotlib, cartopy, cartopy.io.ogc_clients, io\n",
    "\n",
    "    crs = cartopy.crs.epsg('28992')\n",
    "    cartopy.io.ogc_clients._URN_TO_CRS['urn:ogc:def:crs:EPSG::28992'] = crs\n",
    "    cartopy.io.ogc_clients.METERS_PER_UNIT['urn:ogc:def:crs:EPSG::28992'] = 1\n",
    "\n",
    "    fig, ax = plt.subplots(figsize=[10,10],subplot_kw=dict(projection=crs))\n",
    "\n",
    "    extent = [x-d, x+d, y-d, y+d]\n",
    "    ax.set_extent(extent, crs=crs)\n",
    "    ax.add_wmts('https://geodata.nationaalgeoregister.nl/tiles/service/wmts?request=GetCapabilities', \n",
    "                'brtachtergrondkaart')\n",
    "\n",
    "    ax.plot(p.x, p.y, 'r.', ms= 20)\n",
    "    \n",
    "    buf = io.BytesIO()\n",
    "    plt.savefig(buf, format='png')\n",
    "    plt.close()\n",
    "\n",
    "    return buf"
   ]
  },
  {
   "cell_type": "markdown",
   "metadata": {},
   "source": [
    "## excel\n",
    "Loop over alle peilfilters. Per peilfilters wordt er een aparte sheet aangemaakt en worden er grafieken toegevoegd."
   ]
  },
  {
   "cell_type": "code",
   "execution_count": 8,
   "metadata": {},
   "outputs": [
    {
     "name": "stdout",
     "output_type": "stream",
     "text": [
      "28EP0026 1\n",
      "28EP0088 1\n",
      "28EP0088 2\n",
      "28FP0029 1\n",
      "28FP0029 2\n",
      "28FP0033 1\n",
      "28FP0033 2\n",
      "28FP0067 1\n",
      "28FP0067 2\n",
      "28FP0094 1\n",
      "28FP0094 2\n",
      "28FP0131 1\n",
      "28FP0133 1\n",
      "28FP0133 2\n",
      "28FP0273 1\n",
      "28FP0273 2\n",
      "28FP0273 3\n",
      "28FP9002 1\n",
      "28FP9014 1\n"
     ]
    }
   ],
   "source": [
    "writer = pandas.ExcelWriter('export_lizard.xlsx', engine='xlsxwriter') \n",
    "for f in export:\n",
    "    buis, filt = f[0], f[1]\n",
    "    print(buis, filt)\n",
    "    \n",
    "    #Verzamelen peilbuisgegevens, valideren\n",
    "    p = pylizard.Peilbuis(buis, filt)\n",
    "    h_val, h_out = validate(p.head_diver)\n",
    "    h = pandas.concat([h_val, p.head_hand, h_out], axis=1)\n",
    "    h = h.loc[(h.index.year>=yr_min)&(h.index.year<=yr_max)]\n",
    "    h.columns = ['head (data logger)', 'head (hand measurement)', 'outlier']\n",
    "    \n",
    "    #Aanmaken excel \n",
    "    sheet_name = '{}_{}'.format(buis, filt)\n",
    "    h.to_excel(writer, sheet_name=sheet_name)\n",
    "    workbook = writer.book \n",
    "    worksheet = writer.sheets[sheet_name]\n",
    "\n",
    "    \n",
    "    #Toevoegen grafiek\n",
    "    chart = fill_chart(workbook, sheet_name, len(h))\n",
    "    worksheet.insert_chart('I1', chart)\n",
    "    \n",
    "    #Toevoegen kaart\n",
    "    b =  pnt2map(p.x, p.y, 2000)\n",
    "    worksheet.insert_image('I16', '',{'image_data': b})\n",
    "    \n",
    "    #Toevoegen meta\n",
    "    field = ['Peilbuis', 'Filter', 'Maaiveld', 'Bovenkant filter', 'Onderkant filter', 'Compleetheid']\n",
    "    meta  = [p.code, p.filt, p.surface_level, p.bkf, p.okf, 0.7]\n",
    "    worksheet.write_column('F1', field)\n",
    "    worksheet.write_column('G1', meta)\n",
    "    \n",
    "    #Set breedte\n",
    "    col_width = [17, 16, 24, 7, 4, 15, 15]\n",
    "    for i, w in enumerate(col_width):\n",
    "        worksheet.set_column(i,i,w)\n",
    "    \n",
    "writer.save()"
   ]
  },
  {
   "cell_type": "code",
   "execution_count": null,
   "metadata": {},
   "outputs": [],
   "source": []
  }
 ],
 "metadata": {
  "kernelspec": {
   "display_name": "Python 3",
   "language": "python",
   "name": "python3"
  },
  "language_info": {
   "codemirror_mode": {
    "name": "ipython",
    "version": 3
   },
   "file_extension": ".py",
   "mimetype": "text/x-python",
   "name": "python",
   "nbconvert_exporter": "python",
   "pygments_lexer": "ipython3",
   "version": "3.6.5"
  }
 },
 "nbformat": 4,
 "nbformat_minor": 2
}
