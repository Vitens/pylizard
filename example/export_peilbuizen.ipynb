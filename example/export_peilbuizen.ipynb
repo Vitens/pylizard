{
 "cells": [
  {
   "cell_type": "code",
   "execution_count": 1,
   "metadata": {},
   "outputs": [],
   "source": [
    "import pandas\n",
    "import os"
   ]
  },
  {
   "cell_type": "markdown",
   "metadata": {},
   "source": [
    "parameters"
   ]
  },
  {
   "cell_type": "code",
   "execution_count": 2,
   "metadata": {},
   "outputs": [],
   "source": [
    "median_min, median_max = pandas.Timestamp('2010-01-01'), pandas.Timestamp('2019-01-01')\n",
    "\n",
    "x, y = 197691, 564057\n",
    "d = 500"
   ]
  },
  {
   "cell_type": "markdown",
   "metadata": {},
   "source": [
    "Function:\n",
    "* combine hand an diver"
   ]
  },
  {
   "cell_type": "code",
   "execution_count": 3,
   "metadata": {},
   "outputs": [],
   "source": [
    "def h(uuid_hand, uuid_diver):\n",
    "    if uuid_hand!='' and uuid_diver=='':\n",
    "        return pylizard.get_timeseries(uuid_hand)\n",
    "    elif uuid_diver!='' and uuid_hand=='':\n",
    "        return pylizard.get_timeseries(uuid_diver)\n",
    "    else:\n",
    "        h = pandas.concat([pylizard.get_timeseries(uuid_hand), pylizard.get_timeseries(uuid_diver)], axis=1)\n",
    "        h.columns = ['hand', 'diver']\n",
    "        \n",
    "        h['head'] = h['diver']\n",
    "        h.loc[h.index<h['diver'].dropna().index.min(), 'head'] = h.loc[h.index<h['diver'].dropna().index.min(), 'hand']\n",
    "        \n",
    "        return h['head']"
   ]
  },
  {
   "cell_type": "markdown",
   "metadata": {},
   "source": [
    "Collect data"
   ]
  },
  {
   "cell_type": "code",
   "execution_count": 4,
   "metadata": {},
   "outputs": [],
   "source": [
    "import pylizard\n",
    "\n",
    "df = pylizard.pnt2buis(x, y, d)\n",
    "df = df.loc[(df['uuid_hand']!='')|(df['uuid_diver']!='')]\n",
    "df.index.name='id'"
   ]
  },
  {
   "cell_type": "code",
   "execution_count": 5,
   "metadata": {},
   "outputs": [],
   "source": [
    "head = {}\n",
    "median = {}\n",
    "tmin = {}\n",
    "tmax = {}\n",
    "for i, r in df.iterrows():\n",
    "    headi = h(r['uuid_hand'], r['uuid_diver'])\n",
    "    head[i] = headi.loc[abs(headi-headi.median())<7.5*headi.std()]\n",
    "    \n",
    "    median[i] = head[i].loc[(head[i].index>median_min)&(head[i].index<median_max)].median()\n",
    "    tmin[i] = head[i].index.min()\n",
    "    tmax[i] = head[i].index.max()\n",
    "    \n",
    "df['tmin'] = df.index.map(tmin)\n",
    "df['tmax'] = df.index.map(tmax)\n",
    "df['median'] = df.index.map(median) \n",
    "df = df.drop(['lat', 'lon', 'uuid_hand', 'uuid_diver'], axis=1)\n",
    "df['id']=df.index\n",
    "df = df[['x',\n",
    "         'y',\n",
    "         'bkf',\n",
    "         'okf',\n",
    "         'median',\n",
    "         'surface_level',\n",
    "         'tmin',\n",
    "         'tmax',\n",
    "         'buis',\n",
    "         'filt',\n",
    "         'id']]"
   ]
  },
  {
   "cell_type": "markdown",
   "metadata": {},
   "source": [
    "Save to csv"
   ]
  },
  {
   "cell_type": "code",
   "execution_count": 6,
   "metadata": {},
   "outputs": [],
   "source": [
    "folder = r'.\\export\\csv'\n",
    "if not os.path.exists(folder):\n",
    "    os.makedirs(folder)\n",
    "    \n",
    "df.to_csv(os.path.join(folder, 'metadata.csv'), index=False)\n",
    "\n",
    "for k, v in head.items():\n",
    "    v.to_csv(os.path.join(folder, '{}.csv'.format(k)), header=True)"
   ]
  },
  {
   "cell_type": "markdown",
   "metadata": {},
   "source": [
    "Save to imod"
   ]
  },
  {
   "cell_type": "code",
   "execution_count": 7,
   "metadata": {},
   "outputs": [],
   "source": [
    "import imod\n",
    "\n",
    "folder = r'.\\export\\imod'\n",
    "if not os.path.exists(folder):\n",
    "    os.makedirs(folder)\n",
    "\n",
    "df_imod = df[['x',\n",
    "              'y',\n",
    "              'bkf',\n",
    "              'okf',\n",
    "              'median',\n",
    "              'surface_level',\n",
    "              'buis',\n",
    "              'filt',\n",
    "              'id']].copy()\n",
    "df_imod.loc[:, 'id'] = 'txt\\\\' + df_imod.loc[:, 'id']\n",
    "imod.ipf.write(os.path.join(folder, 'peilbuizen.ipf'), df_imod, indexcolumn=9)\n",
    "\n",
    "folder = r'.\\export\\imod\\txt'\n",
    "if not os.path.exists(folder):\n",
    "    os.makedirs(folder)\n",
    "\n",
    "for k, v in head.items():\n",
    "    h = v.groupby(v.index.strftime('%Y%m%d')).mean()\n",
    "    header = '{}\\n2\\ndate,-9999\\nhead_nap,-9999.0\\n'.format(len(h))\n",
    "    f = open(os.path.join(folder, '{}.txt'.format(k)), 'w')\n",
    "    f.write(header)\n",
    "    f.close()\n",
    "    h.to_csv(os.path.join(folder, '{}.txt'.format(k)), mode='a')"
   ]
  },
  {
   "cell_type": "markdown",
   "metadata": {},
   "source": [
    "Save image"
   ]
  },
  {
   "cell_type": "code",
   "execution_count": 8,
   "metadata": {},
   "outputs": [],
   "source": [
    "import matplotlib.pyplot as plt\n",
    "\n",
    "folder = r'.\\export\\image'\n",
    "if not os.path.exists(folder):\n",
    "    os.makedirs(folder)\n",
    "\n",
    "for k, v in head.items():\n",
    "    fig, ax = plt.subplots(figsize=[16,9])\n",
    "    v.plot(ax=ax)\n",
    "    ax.set_title(k)\n",
    "    plt.savefig(os.path.join(folder, '{}.png'.format(k)))\n",
    "    plt.close()"
   ]
  },
  {
   "cell_type": "markdown",
   "metadata": {},
   "source": [
    "Save to shape"
   ]
  },
  {
   "cell_type": "code",
   "execution_count": 9,
   "metadata": {},
   "outputs": [],
   "source": [
    "import geopandas, shapely.geometry\n",
    "\n",
    "folder = r'.\\export\\shp'\n",
    "if not os.path.exists(folder):\n",
    "    os.makedirs(folder)\n",
    "    \n",
    "geometry = df.apply(lambda r: shapely.geometry.Point(r['x'], r['y']), axis=1)\n",
    "gdf = geopandas.GeoDataFrame(df.copy(), geometry=geometry, crs='EPSG:28992')\n",
    "gdf['tmin'] = gdf['tmin'].astype(str)\n",
    "gdf['tmax'] = gdf['tmax'].astype(str)\n",
    "gdf.to_file(os.path.join(folder, 'peilbuizen.shp'))"
   ]
  },
  {
   "cell_type": "markdown",
   "metadata": {},
   "source": [
    "Save to menyanthes"
   ]
  },
  {
   "cell_type": "code",
   "execution_count": 10,
   "metadata": {},
   "outputs": [],
   "source": [
    "import time\n",
    "\n",
    "folder = r'.\\export\\menyanthes'\n",
    "if not os.path.exists(folder):\n",
    "    os.makedirs(folder)\n",
    "\n",
    "f = open(os.path.join(folder, 'peilbuizen.csv'), 'w')\n",
    "\n",
    "f.write('TITEL: Lizard Menyanthes Export\\n')\n",
    "f.write('GEBRUIKERSNAAM: {}\\n'.format(os.getlogin()))\n",
    "f.write('PERIODE: {}-{}\\n'.format(df['tmin'].min(), df['tmax'].max())) #niet lekker\n",
    "f.write('DATUM:{}\\n'.format(time.ctime()))\n",
    "f.write('REFERENTIE: NAP\\n')\n",
    "\n",
    "f.write('\\nLOCATIE,FILTERNUMMER,EXTERNE AANDUIDING,X COORDINAAT,Y COORDINAAT,MAAIVELD NAP,GESCHAT,MEETPUNT NAP,BOVENKANT FILTER,ONDERKANT FILTER,START DATUM,EINDE DATUM\\n')\n",
    "for i, r in df.iterrows():\n",
    "    f.write('{},{},n/a,{},{},{},,,{},{},{},{}\\n'.format(r['buis'],\n",
    "                                                                    r['filt'],\n",
    "                                                                    round(r['x'],2),\n",
    "                                                                    round(r['y'],2),\n",
    "                                                                    round(r['surface_level'],2),\n",
    "                                                                    round(r['bkf'],2),\n",
    "                                                                    round(r['okf'],2),\n",
    "                                                                    r['tmin'].strftime('%Y/%m/%d'),\n",
    "                                                                    r['tmax'].strftime('%Y/%m/%d')))\n",
    "\n",
    "f.write('\\nLOCATIE,FILTERNUMMER,PEIL DATUM TIJD,STAND (NAP),BIJZONDERHEID\\n')\n",
    "for k,v in head.items():\n",
    "    buis = k[:-3]\n",
    "    filt = int(k[-3:])\n",
    "    dv=v.to_frame()\n",
    "    dv['dt']=dv.index.strftime('%Y/%m/%d %H:%M:%S')\n",
    "    dv.apply(lambda r: f.write('{},{},{},{},\\n'.format(buis, filt, r['dt'], r['head'])), axis=1)\n",
    "f.close()"
   ]
  },
  {
   "cell_type": "code",
   "execution_count": null,
   "metadata": {},
   "outputs": [],
   "source": []
  }
 ],
 "metadata": {
  "kernelspec": {
   "display_name": "Python 3",
   "language": "python",
   "name": "python3"
  },
  "language_info": {
   "codemirror_mode": {
    "name": "ipython",
    "version": 3
   },
   "file_extension": ".py",
   "mimetype": "text/x-python",
   "name": "python",
   "nbconvert_exporter": "python",
   "pygments_lexer": "ipython3",
   "version": "3.6.5"
  }
 },
 "nbformat": 4,
 "nbformat_minor": 2
}
